{
 "cells": [
  {
   "cell_type": "markdown",
   "id": "aca68ca9-e449-4342-96df-48b952daaeec",
   "metadata": {},
   "source": [
    "# Proje "
   ]
  },
  {
   "cell_type": "markdown",
   "id": "cc67f108-0114-43fe-b8e9-c096fbd3f54a",
   "metadata": {},
   "source": [
    "1- Bir listeyi düzleştiren (flatten) fonksiyon yazın. Elemanları birden çok katmanlı listelerden ([[3],2] gibi) oluşabileceği gibi, non-scalar verilerden de oluşabilir. Örnek olarak:\n",
    "\n",
    "input: [[1,'a',['cat'],2],[[[3]],'dog'],4,5]\n",
    "\n",
    "output: [1,'a','cat',2,3,'dog',4,5]\n",
    "\n",
    "2- Verilen listenin içindeki elemanları tersine döndüren bir fonksiyon yazın. Eğer listenin içindeki elemanlar da liste içeriyorsa onların elemanlarını da tersine döndürün. Örnek olarak:\n",
    "\n",
    "input: [[1, 2], [3, 4], [5, 6, 7]]\n",
    "\n",
    "output: [[[7, 6, 5], [4, 3], [2, 1]]"
   ]
  },
  {
   "cell_type": "markdown",
   "id": "c6df213e-71e1-44c2-a0fa-e0370d1a839a",
   "metadata": {},
   "source": [
    "## 1"
   ]
  },
  {
   "cell_type": "code",
   "execution_count": 10,
   "id": "e90666d0-7a03-4143-a6d9-15c4eb8d69c8",
   "metadata": {},
   "outputs": [
    {
     "name": "stdout",
     "output_type": "stream",
     "text": [
      "[[7, 6, 5], [4, 3], [2, 1]]\n"
     ]
    }
   ],
   "source": [
    "def flatten(liste):\n",
    "    son = []\n",
    "    for e in liste:\n",
    "        if isinstance(e, list):\n",
    "            son.extend(flatten(e))\n",
    "        else:\n",
    "            son.append(e)\n",
    "    return son\n",
    "\n",
    "ilk = [[1, 'a', ['cat'], 2], [[[3]], 'dog'], 4, 5]\n",
    "son = flatten(ilk)\n",
    "print(sonuc)"
   ]
  },
  {
   "cell_type": "markdown",
   "id": "4ede4312-f69d-4bdf-9dfa-108c51d21085",
   "metadata": {},
   "source": [
    "## 2"
   ]
  },
  {
   "cell_type": "code",
   "execution_count": 12,
   "id": "e49a47d5-1d0c-45bf-958d-f8da52e9a1a2",
   "metadata": {},
   "outputs": [
    {
     "name": "stdout",
     "output_type": "stream",
     "text": [
      "[[7, 6, 5], [4, 3], [2, 1]]\n"
     ]
    }
   ],
   "source": [
    "def ters(liste):\n",
    "    \n",
    "    for a in liste:\n",
    "        if isinstance(a, list): \n",
    "            a.reverse()\n",
    "    \n",
    "    liste.reverse()\n",
    "    return liste\n",
    "\n",
    "l = [[1, 2], [3, 4], [5, 6, 7]]\n",
    "sonuc = ters(l)\n",
    "print(sonuc)"
   ]
  },
  {
   "cell_type": "code",
   "execution_count": null,
   "id": "945ffe5d-d5a4-4092-a1a1-dd5dc37c010f",
   "metadata": {},
   "outputs": [],
   "source": []
  }
 ],
 "metadata": {
  "kernelspec": {
   "display_name": "Python [conda env:base] *",
   "language": "python",
   "name": "conda-base-py"
  },
  "language_info": {
   "codemirror_mode": {
    "name": "ipython",
    "version": 3
   },
   "file_extension": ".py",
   "mimetype": "text/x-python",
   "name": "python",
   "nbconvert_exporter": "python",
   "pygments_lexer": "ipython3",
   "version": "3.12.7"
  }
 },
 "nbformat": 4,
 "nbformat_minor": 5
}
